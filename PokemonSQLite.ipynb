{
 "cells": [
  {
   "cell_type": "code",
   "execution_count": 1,
   "id": "c17c07e1",
   "metadata": {},
   "outputs": [],
   "source": [
    "import sqlite3\n",
    "con = sqlite3.connect(\"pokemon.db\")\n",
    "\n"
   ]
  },
  {
   "cell_type": "code",
   "execution_count": 2,
   "id": "32ac7706",
   "metadata": {},
   "outputs": [
    {
     "name": "stdout",
     "output_type": "stream",
     "text": [
      "Enter C/R/U/D: R\n",
      "Enter pokemon you want to see: Caterpie\n",
      "(10, 'Caterpie', 'Its short feet are tipped with suction pads that enable it to tirelessly climb slopes and walls.')\n"
     ]
    }
   ],
   "source": [
    "choice = input(\"Enter C/R/U/D: \")\n",
    "if choice == 'C':\n",
    "    i = input(\"Enter pokemon id, name, and description (separate by /): \")\n",
    "    l = i.split('/')\n",
    "    con.execute(\"INSERT INTO pokemon(pokemon_id, name, description) VALUES(?, ?, ?)\", (l[0], l[1], l[2]))\n",
    "    con.commit()\n",
    "    #con.close()\n",
    "elif choice == 'R':\n",
    "    i = input(\"Enter pokemon you want to see: \")\n",
    "    cursor = con.execute(\"SELECT * FROM pokemon WHERE name = ?\", (i,))\n",
    "    rows = cursor.fetchall()\n",
    "    for row in rows:\n",
    "        print(row)\n",
    "\n",
    "elif choice == 'U':\n",
    "    i = input(\"Enter pokemon name to update (original, new): \")\n",
    "    l = i.split(',')\n",
    "    con.execute(\"UPDATE pokemon SET name = ? WHERE name = ?\", (l[1], l[0]))\n",
    "    con.commit()\n",
    "\n",
    "elif choice == 'D':\n",
    "    i = input(\"Enter pokemon name to delete: \")\n",
    "    con.execute(\"DELETE FROM pokemon WHERE name = ?\", (i,))\n",
    "    con.commit()\n"
   ]
  },
  {
   "cell_type": "code",
   "execution_count": 24,
   "id": "9b4d58f0",
   "metadata": {},
   "outputs": [
    {
     "name": "stdout",
     "output_type": "stream",
     "text": [
      "Enter Pokemon ID to insert:dd\n"
     ]
    }
   ],
   "source": [
    "inp = input(\"Enter Pokemon ID to insert:\")"
   ]
  },
  {
   "cell_type": "code",
   "execution_count": null,
   "id": "e0ca9f91",
   "metadata": {},
   "outputs": [],
   "source": []
  }
 ],
 "metadata": {
  "kernelspec": {
   "display_name": "Python 3",
   "language": "python",
   "name": "python3"
  },
  "language_info": {
   "codemirror_mode": {
    "name": "ipython",
    "version": 3
   },
   "file_extension": ".py",
   "mimetype": "text/x-python",
   "name": "python",
   "nbconvert_exporter": "python",
   "pygments_lexer": "ipython3",
   "version": "3.6.4"
  }
 },
 "nbformat": 4,
 "nbformat_minor": 5
}
